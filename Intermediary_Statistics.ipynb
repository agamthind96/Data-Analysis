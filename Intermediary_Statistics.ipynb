{
  "nbformat": 4,
  "nbformat_minor": 0,
  "metadata": {
    "colab": {
      "name": "Intermediary_Statistics.ipynb",
      "provenance": [],
      "toc_visible": true,
      "mount_file_id": "1o1ej6Px79YQn6B4DXWXf7hMvlPOxpkvY",
      "authorship_tag": "ABX9TyNTajjsOCJ62EduGQS3BH37",
      "include_colab_link": true
    },
    "kernelspec": {
      "name": "python3",
      "display_name": "Python 3"
    },
    "language_info": {
      "name": "python"
    }
  },
  "cells": [
    {
      "cell_type": "markdown",
      "metadata": {
        "id": "view-in-github",
        "colab_type": "text"
      },
      "source": [
        "<a href=\"https://colab.research.google.com/github/agamthind96/Data-Analysis/blob/main/Intermediary_Statistics.ipynb\" target=\"_parent\"><img src=\"https://colab.research.google.com/assets/colab-badge.svg\" alt=\"Open In Colab\"/></a>"
      ]
    },
    {
      "cell_type": "markdown",
      "source": [
        "# In this notebook, we will study about about intermediary statistics.\n",
        "\n",
        "Directory, Libraries and Data"
      ],
      "metadata": {
        "id": "6UeHQ3mTNmkl"
      }
    },
    {
      "cell_type": "code",
      "source": [
        "# Change the directory\n",
        "%cd /content/drive/MyDrive/Business Analyst course/Statistics and Descriptive Analytics/Intermediary Statistics"
      ],
      "metadata": {
        "colab": {
          "base_uri": "https://localhost:8080/"
        },
        "id": "--VmY7I4OGTy",
        "outputId": "4fe614c7-472d-4fc1-8896-42e02b24c804"
      },
      "execution_count": 1,
      "outputs": [
        {
          "output_type": "stream",
          "name": "stdout",
          "text": [
            "/content/drive/MyDrive/Business Analyst course/Statistics and Descriptive Analytics/Intermediary Statistics\n"
          ]
        }
      ]
    },
    {
      "cell_type": "code",
      "source": [
        "# Libraries\n",
        "import pandas as pd\n",
        "import scipy.stats as st\n",
        "import math as m\n",
        "import statsmodels.stats.api as sm"
      ],
      "metadata": {
        "colab": {
          "base_uri": "https://localhost:8080/"
        },
        "id": "cbNj2tq5OZ6k",
        "outputId": "22c6da3a-1bf4-484c-f5f4-dd69e74e93c9"
      },
      "execution_count": 2,
      "outputs": [
        {
          "output_type": "stream",
          "name": "stderr",
          "text": [
            "/usr/local/lib/python3.7/dist-packages/statsmodels/tools/_testing.py:19: FutureWarning: pandas.util.testing is deprecated. Use the functions in the public API at pandas.testing instead.\n",
            "  import pandas.util.testing as tm\n"
          ]
        }
      ]
    },
    {
      "cell_type": "code",
      "source": [
        "# Load the data\n",
        "df = pd.read_csv(\"Wine-quality-challenge.csv\")\n",
        "df.head()"
      ],
      "metadata": {
        "colab": {
          "base_uri": "https://localhost:8080/",
          "height": 285
        },
        "id": "1G9-DFmkOxvn",
        "outputId": "523595e0-7196-46f3-d3a0-69e367c91d72"
      },
      "execution_count": 3,
      "outputs": [
        {
          "output_type": "execute_result",
          "data": {
            "text/html": [
              "\n",
              "  <div id=\"df-8655343d-df94-4b54-a8ec-d997ee4cbfe4\">\n",
              "    <div class=\"colab-df-container\">\n",
              "      <div>\n",
              "<style scoped>\n",
              "    .dataframe tbody tr th:only-of-type {\n",
              "        vertical-align: middle;\n",
              "    }\n",
              "\n",
              "    .dataframe tbody tr th {\n",
              "        vertical-align: top;\n",
              "    }\n",
              "\n",
              "    .dataframe thead th {\n",
              "        text-align: right;\n",
              "    }\n",
              "</style>\n",
              "<table border=\"1\" class=\"dataframe\">\n",
              "  <thead>\n",
              "    <tr style=\"text-align: right;\">\n",
              "      <th></th>\n",
              "      <th>fixed acidity</th>\n",
              "      <th>volatile acidity</th>\n",
              "      <th>citric acid</th>\n",
              "      <th>residual sugar</th>\n",
              "      <th>chlorides</th>\n",
              "      <th>free sulfur dioxide</th>\n",
              "      <th>total sulfur dioxide</th>\n",
              "      <th>density</th>\n",
              "      <th>pH</th>\n",
              "      <th>sulphates</th>\n",
              "      <th>alcohol</th>\n",
              "      <th>quality</th>\n",
              "    </tr>\n",
              "  </thead>\n",
              "  <tbody>\n",
              "    <tr>\n",
              "      <th>0</th>\n",
              "      <td>7.4</td>\n",
              "      <td>0.70</td>\n",
              "      <td>0.00</td>\n",
              "      <td>1.9</td>\n",
              "      <td>0.076</td>\n",
              "      <td>11.0</td>\n",
              "      <td>34.0</td>\n",
              "      <td>0.9978</td>\n",
              "      <td>3.51</td>\n",
              "      <td>0.56</td>\n",
              "      <td>9.4</td>\n",
              "      <td>5</td>\n",
              "    </tr>\n",
              "    <tr>\n",
              "      <th>1</th>\n",
              "      <td>7.8</td>\n",
              "      <td>0.88</td>\n",
              "      <td>0.00</td>\n",
              "      <td>2.6</td>\n",
              "      <td>0.098</td>\n",
              "      <td>25.0</td>\n",
              "      <td>67.0</td>\n",
              "      <td>0.9968</td>\n",
              "      <td>3.20</td>\n",
              "      <td>0.68</td>\n",
              "      <td>9.8</td>\n",
              "      <td>5</td>\n",
              "    </tr>\n",
              "    <tr>\n",
              "      <th>2</th>\n",
              "      <td>7.8</td>\n",
              "      <td>0.76</td>\n",
              "      <td>0.04</td>\n",
              "      <td>2.3</td>\n",
              "      <td>0.092</td>\n",
              "      <td>15.0</td>\n",
              "      <td>54.0</td>\n",
              "      <td>0.9970</td>\n",
              "      <td>3.26</td>\n",
              "      <td>0.65</td>\n",
              "      <td>9.8</td>\n",
              "      <td>5</td>\n",
              "    </tr>\n",
              "    <tr>\n",
              "      <th>3</th>\n",
              "      <td>11.2</td>\n",
              "      <td>0.28</td>\n",
              "      <td>0.56</td>\n",
              "      <td>1.9</td>\n",
              "      <td>0.075</td>\n",
              "      <td>17.0</td>\n",
              "      <td>60.0</td>\n",
              "      <td>0.9980</td>\n",
              "      <td>3.16</td>\n",
              "      <td>0.58</td>\n",
              "      <td>9.8</td>\n",
              "      <td>6</td>\n",
              "    </tr>\n",
              "    <tr>\n",
              "      <th>4</th>\n",
              "      <td>7.4</td>\n",
              "      <td>0.70</td>\n",
              "      <td>0.00</td>\n",
              "      <td>1.9</td>\n",
              "      <td>0.076</td>\n",
              "      <td>11.0</td>\n",
              "      <td>34.0</td>\n",
              "      <td>0.9978</td>\n",
              "      <td>3.51</td>\n",
              "      <td>0.56</td>\n",
              "      <td>9.4</td>\n",
              "      <td>5</td>\n",
              "    </tr>\n",
              "  </tbody>\n",
              "</table>\n",
              "</div>\n",
              "      <button class=\"colab-df-convert\" onclick=\"convertToInteractive('df-8655343d-df94-4b54-a8ec-d997ee4cbfe4')\"\n",
              "              title=\"Convert this dataframe to an interactive table.\"\n",
              "              style=\"display:none;\">\n",
              "        \n",
              "  <svg xmlns=\"http://www.w3.org/2000/svg\" height=\"24px\"viewBox=\"0 0 24 24\"\n",
              "       width=\"24px\">\n",
              "    <path d=\"M0 0h24v24H0V0z\" fill=\"none\"/>\n",
              "    <path d=\"M18.56 5.44l.94 2.06.94-2.06 2.06-.94-2.06-.94-.94-2.06-.94 2.06-2.06.94zm-11 1L8.5 8.5l.94-2.06 2.06-.94-2.06-.94L8.5 2.5l-.94 2.06-2.06.94zm10 10l.94 2.06.94-2.06 2.06-.94-2.06-.94-.94-2.06-.94 2.06-2.06.94z\"/><path d=\"M17.41 7.96l-1.37-1.37c-.4-.4-.92-.59-1.43-.59-.52 0-1.04.2-1.43.59L10.3 9.45l-7.72 7.72c-.78.78-.78 2.05 0 2.83L4 21.41c.39.39.9.59 1.41.59.51 0 1.02-.2 1.41-.59l7.78-7.78 2.81-2.81c.8-.78.8-2.07 0-2.86zM5.41 20L4 18.59l7.72-7.72 1.47 1.35L5.41 20z\"/>\n",
              "  </svg>\n",
              "      </button>\n",
              "      \n",
              "  <style>\n",
              "    .colab-df-container {\n",
              "      display:flex;\n",
              "      flex-wrap:wrap;\n",
              "      gap: 12px;\n",
              "    }\n",
              "\n",
              "    .colab-df-convert {\n",
              "      background-color: #E8F0FE;\n",
              "      border: none;\n",
              "      border-radius: 50%;\n",
              "      cursor: pointer;\n",
              "      display: none;\n",
              "      fill: #1967D2;\n",
              "      height: 32px;\n",
              "      padding: 0 0 0 0;\n",
              "      width: 32px;\n",
              "    }\n",
              "\n",
              "    .colab-df-convert:hover {\n",
              "      background-color: #E2EBFA;\n",
              "      box-shadow: 0px 1px 2px rgba(60, 64, 67, 0.3), 0px 1px 3px 1px rgba(60, 64, 67, 0.15);\n",
              "      fill: #174EA6;\n",
              "    }\n",
              "\n",
              "    [theme=dark] .colab-df-convert {\n",
              "      background-color: #3B4455;\n",
              "      fill: #D2E3FC;\n",
              "    }\n",
              "\n",
              "    [theme=dark] .colab-df-convert:hover {\n",
              "      background-color: #434B5C;\n",
              "      box-shadow: 0px 1px 3px 1px rgba(0, 0, 0, 0.15);\n",
              "      filter: drop-shadow(0px 1px 2px rgba(0, 0, 0, 0.3));\n",
              "      fill: #FFFFFF;\n",
              "    }\n",
              "  </style>\n",
              "\n",
              "      <script>\n",
              "        const buttonEl =\n",
              "          document.querySelector('#df-8655343d-df94-4b54-a8ec-d997ee4cbfe4 button.colab-df-convert');\n",
              "        buttonEl.style.display =\n",
              "          google.colab.kernel.accessAllowed ? 'block' : 'none';\n",
              "\n",
              "        async function convertToInteractive(key) {\n",
              "          const element = document.querySelector('#df-8655343d-df94-4b54-a8ec-d997ee4cbfe4');\n",
              "          const dataTable =\n",
              "            await google.colab.kernel.invokeFunction('convertToInteractive',\n",
              "                                                     [key], {});\n",
              "          if (!dataTable) return;\n",
              "\n",
              "          const docLinkHtml = 'Like what you see? Visit the ' +\n",
              "            '<a target=\"_blank\" href=https://colab.research.google.com/notebooks/data_table.ipynb>data table notebook</a>'\n",
              "            + ' to learn more about interactive tables.';\n",
              "          element.innerHTML = '';\n",
              "          dataTable['output_type'] = 'display_data';\n",
              "          await google.colab.output.renderOutput(dataTable, element);\n",
              "          const docLink = document.createElement('div');\n",
              "          docLink.innerHTML = docLinkHtml;\n",
              "          element.appendChild(docLink);\n",
              "        }\n",
              "      </script>\n",
              "    </div>\n",
              "  </div>\n",
              "  "
            ],
            "text/plain": [
              "   fixed acidity  volatile acidity  citric acid  ...  sulphates  alcohol  quality\n",
              "0            7.4              0.70         0.00  ...       0.56      9.4        5\n",
              "1            7.8              0.88         0.00  ...       0.68      9.8        5\n",
              "2            7.8              0.76         0.04  ...       0.65      9.8        5\n",
              "3           11.2              0.28         0.56  ...       0.58      9.8        6\n",
              "4            7.4              0.70         0.00  ...       0.56      9.4        5\n",
              "\n",
              "[5 rows x 12 columns]"
            ]
          },
          "metadata": {},
          "execution_count": 3
        }
      ]
    },
    {
      "cell_type": "markdown",
      "source": [
        "## Normal Distribution"
      ],
      "metadata": {
        "id": "Dkb8nHYKPI1Y"
      }
    },
    {
      "cell_type": "code",
      "source": [
        "# Density Distribution\n",
        "df.chlorides.plot.density();"
      ],
      "metadata": {
        "colab": {
          "base_uri": "https://localhost:8080/",
          "height": 265
        },
        "id": "PJc4lAdmSF30",
        "outputId": "51e19817-6588-44bd-9cd1-85c153cf94a7"
      },
      "execution_count": 4,
      "outputs": [
        {
          "output_type": "display_data",
          "data": {
            "image/png": "[encoded data removed]",
            "text/plain": [
              "<Figure size 432x288 with 1 Axes>"
            ]
          },
          "metadata": {
            "needs_background": "light"
          }
        }
      ]
    },
    {
      "cell_type": "code",
      "source": [
        "# 68-95-99 check\n",
        "(df.loc[(df.chlorides <= df.chlorides.mean() + 1 * df.chlorides.std()) & \n",
        "       (df.chlorides >= df.chlorides.mean() - 1 * df.chlorides.std())].chlorides.count()/df.chlorides.count())*100"
      ],
      "metadata": {
        "colab": {
          "base_uri": "https://localhost:8080/"
        },
        "id": "QJHwGHNKSZ9R",
        "outputId": "fef3294d-9fc9-45ee-fc44-0033947f0078"
      },
      "execution_count": 5,
      "outputs": [
        {
          "output_type": "execute_result",
          "data": {
            "text/plain": [
              "94.80925578486554"
            ]
          },
          "metadata": {},
          "execution_count": 5
        }
      ]
    },
    {
      "cell_type": "code",
      "source": [
        "# Question : Plot Alcohol Distribution and check how many observations are within 3 standard deviations.\n",
        "df.alcohol.plot.density();"
      ],
      "metadata": {
        "colab": {
          "base_uri": "https://localhost:8080/",
          "height": 265
        },
        "id": "uYRaX26nTbo8",
        "outputId": "8f20caf7-5928-48da-c983-86ba9b238bb8"
      },
      "execution_count": 6,
      "outputs": [
        {
          "output_type": "display_data",
          "data": {
            "image/png": "[encoded data removed]",
            "text/plain": [
              "<Figure size 432x288 with 1 Axes>"
            ]
          },
          "metadata": {
            "needs_background": "light"
          }
        }
      ]
    },
    {
      "cell_type": "code",
      "source": [
        "(df.loc[(df.alcohol <= df.alcohol.mean() + 3.0*df.alcohol.std()) & \n",
        "       (df.alcohol >= df.alcohol.mean() - 3.0*df.alcohol.std())].alcohol.count()/df.alcohol.count())*100"
      ],
      "metadata": {
        "colab": {
          "base_uri": "https://localhost:8080/"
        },
        "id": "leddFHUmUbCl",
        "outputId": "45c94894-49f8-404e-f702-913bf1b7f12a"
      },
      "execution_count": 7,
      "outputs": [
        {
          "output_type": "execute_result",
          "data": {
            "text/plain": [
              "99.49968730456536"
            ]
          },
          "metadata": {},
          "execution_count": 7
        }
      ]
    },
    {
      "cell_type": "markdown",
      "source": [
        "## P-Value\n",
        "\n",
        "- P-Value tells us if we reject or not the hypothesis.\n",
        "- P-Value is the probability of obtaining results as extreme as the observed results of a statistical hypothesis test, assuming the null hypothesis is correct.\n",
        "- P-Value helps us understand what is the likelihood of \"accepting\" aka \"fail to reject\" the hypthesis.\n",
        "- A small P-value means we favour the alternative hypothesis.\n",
        "- P-Value threshold is usually 0.05\n",
        "\n",
        "\n",
        "* Example-1\n",
        " **H0** : The average salary of Business Analysts is INR 2000000.\n",
        " **H1** : The average salary of Business Analysts is not INR 2000000.\n",
        " Suppose P-Value -> 0.2, this implies that we fail to reject the null hypothesis."
      ],
      "metadata": {
        "id": "YpZ2VsB9U0QX"
      }
    },
    {
      "cell_type": "markdown",
      "source": [
        "## Shapiro-Wilk Test\n",
        "- Quantifies how likely it is that data was drawn from Gaussian distribution.\n",
        "- Created in 1965 and is one of the many normality tests.\n",
        "\n",
        "\n",
        " **Interpretation**\n",
        "* **H0** : The distribution is Gaussian.\n",
        "- If p>0.05 -> The distribution appears to have normal distribution.\n",
        "* **H1** : If p<0.05 -> The distribution doesn't follows Gaussian distribution -> rejects the null hypothesis.\n"
      ],
      "metadata": {
        "id": "LFDw29iTaPpm"
      }
    },
    {
      "cell_type": "code",
      "source": [
        "# Shapiro-Wilks test for Normality\n",
        "stat, p = st.shapiro(df.chlorides)\n",
        "p"
      ],
      "metadata": {
        "colab": {
          "base_uri": "https://localhost:8080/"
        },
        "id": "GWNOfgIgnDUn",
        "outputId": "6f167903-9ec7-4210-8473-e4944cda4e2d"
      },
      "execution_count": 8,
      "outputs": [
        {
          "output_type": "execute_result",
          "data": {
            "text/plain": [
              "0.0"
            ]
          },
          "metadata": {},
          "execution_count": 8
        }
      ]
    },
    {
      "cell_type": "code",
      "source": [
        "# Function for Shapiro Normality test\n",
        "def shapiro_normality_test(arr):\n",
        "  \"\"\"\n",
        "  Takes the input as array or column from DataFrame and return the P-value.\n",
        "  \"\"\"\n",
        "  import scipy.stats as st\n",
        "  stat, p_value = st.shapiro(arr)\n",
        "  print(p_value)\n",
        "  # Condition check for hypthesis\n",
        "  if p_value > 0.05 :\n",
        "    print(\"Sample looks Gaussian/Normal (fail to reject H0)\")\n",
        "  else:\n",
        "    print(\"Sample doesn't looks Gaussian/Normal (reject H0)\")"
      ],
      "metadata": {
        "id": "pxUaksLaoKwS"
      },
      "execution_count": 9,
      "outputs": []
    },
    {
      "cell_type": "code",
      "source": [
        "# Question : Shapiro-Wilks test for Sulphates\n",
        "shapiro_normality_test(df.sulphates)"
      ],
      "metadata": {
        "colab": {
          "base_uri": "https://localhost:8080/"
        },
        "id": "dyPMlQMHpw48",
        "outputId": "e675d488-a8fd-481a-964c-142dbb9afd83"
      },
      "execution_count": 10,
      "outputs": [
        {
          "output_type": "stream",
          "name": "stdout",
          "text": [
            "5.821617678881608e-38\n",
            "Sample doesn't looks Gaussian/Normal (reject H0)\n"
          ]
        }
      ]
    },
    {
      "cell_type": "markdown",
      "source": [
        "## Standard Error (of the sample mean)\n",
        "\n",
        "- The standard error of the sample mean is an estimate of how far the sample mean is likely to be from population mean.\n",
        "- It is different from standard deviation in the way that standard deviation is the degree to which individuals within the sample differ from the sample mean.\n",
        "- Standard Error = Standard Deviation/(sqrt(sample size))"
      ],
      "metadata": {
        "id": "CEIAzKm9qhYS"
      }
    },
    {
      "cell_type": "code",
      "source": [
        "# Standard Error using function and using manual computation\n",
        "def standard_error(df):\n",
        "  \"\"\"\n",
        "  It calculates the standard error of the data using function as well as manual computation.\n",
        "  \"\"\"\n",
        "  result = st.sem(df)\n",
        "  print(f'Standard error calculated using function is {result}')\n",
        "  manual_result = df.std()/m.sqrt(len(df))\n",
        "  print(f'Standard error calculated manually is {manual_result}')\n",
        "\n"
      ],
      "metadata": {
        "id": "J0DnMND9saHy"
      },
      "execution_count": 11,
      "outputs": []
    },
    {
      "cell_type": "code",
      "source": [
        "standard_error(df.alcohol)"
      ],
      "metadata": {
        "colab": {
          "base_uri": "https://localhost:8080/"
        },
        "id": "2tjdaq-dthkx",
        "outputId": "4000793c-3b1e-479c-9256-501b832bff76"
      },
      "execution_count": 12,
      "outputs": [
        {
          "output_type": "stream",
          "name": "stdout",
          "text": [
            "Standard error calculated using function is 0.026650018979018173\n",
            "Standard error calculated manually is 0.026650018979018118\n"
          ]
        }
      ]
    },
    {
      "cell_type": "code",
      "source": [
        "# Question : Standard Error for pH\n",
        "standard_error(df.pH)"
      ],
      "metadata": {
        "colab": {
          "base_uri": "https://localhost:8080/"
        },
        "id": "ogrDnz8TtmKP",
        "outputId": "f02f0923-be67-4040-de2c-a2f84aa0e1fb"
      },
      "execution_count": 13,
      "outputs": [
        {
          "output_type": "stream",
          "name": "stdout",
          "text": [
            "Standard error calculated using function is 0.0038608683325203784\n",
            "Standard error calculated manually is 0.0038608683325203753\n"
          ]
        }
      ]
    },
    {
      "cell_type": "markdown",
      "source": [
        "## Z-Score\n",
        "\n",
        "- Gives you an idea of how far from the mean is a data point.\n",
        "- Z-Scores are a way to compare results to a \"normal\" population.\n",
        "- It is a way to standardize values.\n",
        "- Z-score = (x-mu)/std"
      ],
      "metadata": {
        "id": "u5inrgysvAJS"
      }
    },
    {
      "cell_type": "markdown",
      "source": [
        "## Confidence-Interval\n",
        "- A range that gives a sense of how precisely a statistic estimates a parameter.\n",
        "- The associated confidence level gives the probability with which an estimated interval will contain the true value of the parameter.\n"
      ],
      "metadata": {
        "id": "tl8Nxvvo9g-M"
      }
    },
    {
      "cell_type": "code",
      "source": [
        "# Confidence Interval of the mean of citric acid\n",
        "print(df[[\"citric acid\"]].mean())\n",
        "st.norm.interval(alpha=0.95,\n",
        "                 loc=df[['citric acid']].mean(),\n",
        "                 scale = st.sem(df[['citric acid']]))"
      ],
      "metadata": {
        "colab": {
          "base_uri": "https://localhost:8080/"
        },
        "id": "6-mnFKK9AB6u",
        "outputId": "ffe0ac60-13da-4974-86bd-75eeca1ce5f8"
      },
      "execution_count": 14,
      "outputs": [
        {
          "output_type": "stream",
          "name": "stdout",
          "text": [
            "citric acid    0.270976\n",
            "dtype: float64\n"
          ]
        },
        {
          "output_type": "execute_result",
          "data": {
            "text/plain": [
              "(array([0.26142755]), array([0.28052367]))"
            ]
          },
          "metadata": {},
          "execution_count": 14
        }
      ]
    },
    {
      "cell_type": "code",
      "source": [
        "# Function for Confidence Interval of mean of some feature.\n",
        "def confidence_interval(df,ci_level):\n",
        "  \"\"\"\n",
        "  This function returns the mean and Confidence Interval of the mean of some feature of DataFrame.\n",
        "  \"\"\"\n",
        "  print(f'Mean of the required parameter is {df.mean()}')\n",
        "  ci = st.norm.interval(alpha=ci_level,\n",
        "                        loc=df.mean(),\n",
        "                        scale=st.sem(df))\n",
        "  \n",
        "  print(f'Confidence Interval lies in the range {ci[0]} and {ci[1]}')\n",
        "\n",
        "  df.hist()\n"
      ],
      "metadata": {
        "id": "CJEpgnQEB_Ry"
      },
      "execution_count": 15,
      "outputs": []
    },
    {
      "cell_type": "code",
      "source": [
        "# Question : Confidence Interval of the Density mean and plot histogram\n",
        "confidence_interval(df=df.density, ci_level=0.95)"
      ],
      "metadata": {
        "colab": {
          "base_uri": "https://localhost:8080/",
          "height": 300
        },
        "id": "bgwyRYF6EpV4",
        "outputId": "5c0cc889-dc85-4e38-8701-264feffa24cd"
      },
      "execution_count": 16,
      "outputs": [
        {
          "output_type": "stream",
          "name": "stdout",
          "text": [
            "Mean of the required parameter is 0.9967466791744831\n",
            "Confidence Interval lies in the range 0.9966541725972511 and 0.9968391857517152\n"
          ]
        },
        {
          "output_type": "display_data",
          "data": {
            "image/png": "[encoded data removed]",
            "text/plain": [
              "<Figure size 432x288 with 1 Axes>"
            ]
          },
          "metadata": {
            "needs_background": "light"
          }
        }
      ]
    },
    {
      "cell_type": "markdown",
      "source": [
        "## T-test\n",
        "- Helps us understand whether one group is statistically different from the another.\n",
        "- if p-value is < 0.05, then the groups are statistically different.\n",
        "\n"
      ],
      "metadata": {
        "id": "89JgcvNRFGPp"
      }
    },
    {
      "cell_type": "code",
      "source": [
        "# Laoad the required data\n",
        "data = pd.read_csv(\"stackoverflow.csv\")\n",
        "data.head()"
      ],
      "metadata": {
        "colab": {
          "base_uri": "https://localhost:8080/",
          "height": 357
        },
        "id": "cMtUDKxZr_OM",
        "outputId": "c0176ddb-d6ba-43b3-90f0-7440dae1e98b"
      },
      "execution_count": 17,
      "outputs": [
        {
          "output_type": "execute_result",
          "data": {
            "text/html": [
              "\n",
              "  <div id=\"df-9022a033-b526-4267-9b4f-0e068192b52c\">\n",
              "    <div class=\"colab-df-container\">\n",
              "      <div>\n",
              "<style scoped>\n",
              "    .dataframe tbody tr th:only-of-type {\n",
              "        vertical-align: middle;\n",
              "    }\n",
              "\n",
              "    .dataframe tbody tr th {\n",
              "        vertical-align: top;\n",
              "    }\n",
              "\n",
              "    .dataframe thead th {\n",
              "        text-align: right;\n",
              "    }\n",
              "</style>\n",
              "<table border=\"1\" class=\"dataframe\">\n",
              "  <thead>\n",
              "    <tr style=\"text-align: right;\">\n",
              "      <th></th>\n",
              "      <th>Country</th>\n",
              "      <th>Salary</th>\n",
              "      <th>YearsCodedJob</th>\n",
              "      <th>OpenSource</th>\n",
              "      <th>Hobby</th>\n",
              "      <th>CompanySizeNumber</th>\n",
              "      <th>Remote</th>\n",
              "      <th>CareerSatisfaction</th>\n",
              "      <th>Data_scientist</th>\n",
              "      <th>Database_administrator</th>\n",
              "      <th>Desktop_applications_developer</th>\n",
              "      <th>Developer_with_stats_math_background</th>\n",
              "      <th>DevOps</th>\n",
              "      <th>Embedded_developer</th>\n",
              "      <th>Graphic_designer</th>\n",
              "      <th>Graphics_programming</th>\n",
              "      <th>Machine_learning_specialist</th>\n",
              "      <th>Mobile_developer</th>\n",
              "      <th>Quality_assurance_engineer</th>\n",
              "      <th>Systems_administrator</th>\n",
              "      <th>Web_developer</th>\n",
              "    </tr>\n",
              "  </thead>\n",
              "  <tbody>\n",
              "    <tr>\n",
              "      <th>0</th>\n",
              "      <td>United Kingdom</td>\n",
              "      <td>100000.000000</td>\n",
              "      <td>20</td>\n",
              "      <td>0</td>\n",
              "      <td>1</td>\n",
              "      <td>5000</td>\n",
              "      <td>Remote</td>\n",
              "      <td>8</td>\n",
              "      <td>0</td>\n",
              "      <td>0</td>\n",
              "      <td>0</td>\n",
              "      <td>0</td>\n",
              "      <td>0</td>\n",
              "      <td>1</td>\n",
              "      <td>0</td>\n",
              "      <td>0</td>\n",
              "      <td>0</td>\n",
              "      <td>0</td>\n",
              "      <td>0</td>\n",
              "      <td>0</td>\n",
              "      <td>0</td>\n",
              "    </tr>\n",
              "    <tr>\n",
              "      <th>1</th>\n",
              "      <td>United States</td>\n",
              "      <td>130000.000000</td>\n",
              "      <td>20</td>\n",
              "      <td>1</td>\n",
              "      <td>1</td>\n",
              "      <td>1000</td>\n",
              "      <td>Remote</td>\n",
              "      <td>9</td>\n",
              "      <td>0</td>\n",
              "      <td>0</td>\n",
              "      <td>0</td>\n",
              "      <td>0</td>\n",
              "      <td>1</td>\n",
              "      <td>1</td>\n",
              "      <td>0</td>\n",
              "      <td>0</td>\n",
              "      <td>0</td>\n",
              "      <td>0</td>\n",
              "      <td>1</td>\n",
              "      <td>0</td>\n",
              "      <td>1</td>\n",
              "    </tr>\n",
              "    <tr>\n",
              "      <th>2</th>\n",
              "      <td>United States</td>\n",
              "      <td>175000.000000</td>\n",
              "      <td>16</td>\n",
              "      <td>0</td>\n",
              "      <td>1</td>\n",
              "      <td>10000</td>\n",
              "      <td>Not remote</td>\n",
              "      <td>7</td>\n",
              "      <td>0</td>\n",
              "      <td>0</td>\n",
              "      <td>0</td>\n",
              "      <td>0</td>\n",
              "      <td>0</td>\n",
              "      <td>0</td>\n",
              "      <td>0</td>\n",
              "      <td>0</td>\n",
              "      <td>0</td>\n",
              "      <td>0</td>\n",
              "      <td>0</td>\n",
              "      <td>0</td>\n",
              "      <td>1</td>\n",
              "    </tr>\n",
              "    <tr>\n",
              "      <th>3</th>\n",
              "      <td>Germany</td>\n",
              "      <td>64516.129030</td>\n",
              "      <td>4</td>\n",
              "      <td>0</td>\n",
              "      <td>0</td>\n",
              "      <td>1000</td>\n",
              "      <td>Not remote</td>\n",
              "      <td>9</td>\n",
              "      <td>0</td>\n",
              "      <td>0</td>\n",
              "      <td>0</td>\n",
              "      <td>0</td>\n",
              "      <td>0</td>\n",
              "      <td>0</td>\n",
              "      <td>0</td>\n",
              "      <td>0</td>\n",
              "      <td>0</td>\n",
              "      <td>0</td>\n",
              "      <td>0</td>\n",
              "      <td>0</td>\n",
              "      <td>1</td>\n",
              "    </tr>\n",
              "    <tr>\n",
              "      <th>4</th>\n",
              "      <td>India</td>\n",
              "      <td>6636.323594</td>\n",
              "      <td>1</td>\n",
              "      <td>0</td>\n",
              "      <td>1</td>\n",
              "      <td>5000</td>\n",
              "      <td>Not remote</td>\n",
              "      <td>5</td>\n",
              "      <td>0</td>\n",
              "      <td>0</td>\n",
              "      <td>0</td>\n",
              "      <td>0</td>\n",
              "      <td>0</td>\n",
              "      <td>0</td>\n",
              "      <td>0</td>\n",
              "      <td>0</td>\n",
              "      <td>0</td>\n",
              "      <td>0</td>\n",
              "      <td>0</td>\n",
              "      <td>0</td>\n",
              "      <td>1</td>\n",
              "    </tr>\n",
              "  </tbody>\n",
              "</table>\n",
              "</div>\n",
              "      <button class=\"colab-df-convert\" onclick=\"convertToInteractive('df-9022a033-b526-4267-9b4f-0e068192b52c')\"\n",
              "              title=\"Convert this dataframe to an interactive table.\"\n",
              "              style=\"display:none;\">\n",
              "        \n",
              "  <svg xmlns=\"http://www.w3.org/2000/svg\" height=\"24px\"viewBox=\"0 0 24 24\"\n",
              "       width=\"24px\">\n",
              "    <path d=\"M0 0h24v24H0V0z\" fill=\"none\"/>\n",
              "    <path d=\"M18.56 5.44l.94 2.06.94-2.06 2.06-.94-2.06-.94-.94-2.06-.94 2.06-2.06.94zm-11 1L8.5 8.5l.94-2.06 2.06-.94-2.06-.94L8.5 2.5l-.94 2.06-2.06.94zm10 10l.94 2.06.94-2.06 2.06-.94-2.06-.94-.94-2.06-.94 2.06-2.06.94z\"/><path d=\"M17.41 7.96l-1.37-1.37c-.4-.4-.92-.59-1.43-.59-.52 0-1.04.2-1.43.59L10.3 9.45l-7.72 7.72c-.78.78-.78 2.05 0 2.83L4 21.41c.39.39.9.59 1.41.59.51 0 1.02-.2 1.41-.59l7.78-7.78 2.81-2.81c.8-.78.8-2.07 0-2.86zM5.41 20L4 18.59l7.72-7.72 1.47 1.35L5.41 20z\"/>\n",
              "  </svg>\n",
              "      </button>\n",
              "      \n",
              "  <style>\n",
              "    .colab-df-container {\n",
              "      display:flex;\n",
              "      flex-wrap:wrap;\n",
              "      gap: 12px;\n",
              "    }\n",
              "\n",
              "    .colab-df-convert {\n",
              "      background-color: #E8F0FE;\n",
              "      border: none;\n",
              "      border-radius: 50%;\n",
              "      cursor: pointer;\n",
              "      display: none;\n",
              "      fill: #1967D2;\n",
              "      height: 32px;\n",
              "      padding: 0 0 0 0;\n",
              "      width: 32px;\n",
              "    }\n",
              "\n",
              "    .colab-df-convert:hover {\n",
              "      background-color: #E2EBFA;\n",
              "      box-shadow: 0px 1px 2px rgba(60, 64, 67, 0.3), 0px 1px 3px 1px rgba(60, 64, 67, 0.15);\n",
              "      fill: #174EA6;\n",
              "    }\n",
              "\n",
              "    [theme=dark] .colab-df-convert {\n",
              "      background-color: #3B4455;\n",
              "      fill: #D2E3FC;\n",
              "    }\n",
              "\n",
              "    [theme=dark] .colab-df-convert:hover {\n",
              "      background-color: #434B5C;\n",
              "      box-shadow: 0px 1px 3px 1px rgba(0, 0, 0, 0.15);\n",
              "      filter: drop-shadow(0px 1px 2px rgba(0, 0, 0, 0.3));\n",
              "      fill: #FFFFFF;\n",
              "    }\n",
              "  </style>\n",
              "\n",
              "      <script>\n",
              "        const buttonEl =\n",
              "          document.querySelector('#df-9022a033-b526-4267-9b4f-0e068192b52c button.colab-df-convert');\n",
              "        buttonEl.style.display =\n",
              "          google.colab.kernel.accessAllowed ? 'block' : 'none';\n",
              "\n",
              "        async function convertToInteractive(key) {\n",
              "          const element = document.querySelector('#df-9022a033-b526-4267-9b4f-0e068192b52c');\n",
              "          const dataTable =\n",
              "            await google.colab.kernel.invokeFunction('convertToInteractive',\n",
              "                                                     [key], {});\n",
              "          if (!dataTable) return;\n",
              "\n",
              "          const docLinkHtml = 'Like what you see? Visit the ' +\n",
              "            '<a target=\"_blank\" href=https://colab.research.google.com/notebooks/data_table.ipynb>data table notebook</a>'\n",
              "            + ' to learn more about interactive tables.';\n",
              "          element.innerHTML = '';\n",
              "          dataTable['output_type'] = 'display_data';\n",
              "          await google.colab.output.renderOutput(dataTable, element);\n",
              "          const docLink = document.createElement('div');\n",
              "          docLink.innerHTML = docLinkHtml;\n",
              "          element.appendChild(docLink);\n",
              "        }\n",
              "      </script>\n",
              "    </div>\n",
              "  </div>\n",
              "  "
            ],
            "text/plain": [
              "          Country         Salary  ...  Systems_administrator  Web_developer\n",
              "0  United Kingdom  100000.000000  ...                      0              0\n",
              "1   United States  130000.000000  ...                      0              1\n",
              "2   United States  175000.000000  ...                      0              1\n",
              "3         Germany   64516.129030  ...                      0              1\n",
              "4           India    6636.323594  ...                      0              1\n",
              "\n",
              "[5 rows x 21 columns]"
            ]
          },
          "metadata": {},
          "execution_count": 17
        }
      ]
    },
    {
      "cell_type": "code",
      "source": [
        "# Subset for UK people  and Germany people salary\n",
        "salary_uk = data.loc[data.Country == 'United Kingdom'].Salary\n",
        "print(salary_uk.head())\n",
        "\n",
        "salary_ger = data.loc[data.Country == 'Germany'].Salary\n",
        "salary_ger.head()\n",
        " "
      ],
      "metadata": {
        "colab": {
          "base_uri": "https://localhost:8080/"
        },
        "id": "TzebibTQsa2U",
        "outputId": "12e3ede8-04da-4a6d-9102-0eea25d0134b"
      },
      "execution_count": 18,
      "outputs": [
        {
          "output_type": "stream",
          "name": "stdout",
          "text": [
            "0     100000.0\n",
            "11     32500.0\n",
            "12     30000.0\n",
            "17     32500.0\n",
            "18     43750.0\n",
            "Name: Salary, dtype: float64\n"
          ]
        },
        {
          "output_type": "execute_result",
          "data": {
            "text/plain": [
              "3     64516.12903\n",
              "7     53763.44086\n",
              "9     83870.96774\n",
              "25    10752.68817\n",
              "43    59139.78495\n",
              "Name: Salary, dtype: float64"
            ]
          },
          "metadata": {},
          "execution_count": 18
        }
      ]
    },
    {
      "cell_type": "code",
      "source": [
        "# T-test\n",
        "stat, p_value = st.ttest_ind(salary_uk, salary_ger)\n",
        "p_value"
      ],
      "metadata": {
        "colab": {
          "base_uri": "https://localhost:8080/"
        },
        "id": "A4NvAFqXtkq-",
        "outputId": "8b7224f7-d1c0-4f17-82c2-c681b65acd52"
      },
      "execution_count": 19,
      "outputs": [
        {
          "output_type": "execute_result",
          "data": {
            "text/plain": [
              "0.026389999555203502"
            ]
          },
          "metadata": {},
          "execution_count": 19
        }
      ]
    },
    {
      "cell_type": "code",
      "source": [
        "# Function for T-test\n",
        "def t_test(a,b):\n",
        "  \"\"\"\n",
        "  Takes the samples of two different groups and returns p_value using t-test.\n",
        "  \"\"\"\n",
        "\n",
        "  stats, p_value = st.ttest_ind(a,b)\n",
        "  print(p_value)\n",
        "  # Condtion check\n",
        "  if p_value>=0.05:\n",
        "    print(f'As p_value is {p_value}, so both groups have similar characterstics(fail to reject H0)')\n",
        "  else:\n",
        "    print(f'As p_value is {p_value}, so there is difference in characterstics of both groups(reject H0)')\n",
        "\n",
        "  a.hist(legend=True)\n",
        "  b.hist()\n"
      ],
      "metadata": {
        "id": "7PYTqAYYvgFO"
      },
      "execution_count": 20,
      "outputs": []
    },
    {
      "cell_type": "code",
      "source": [
        "# Question : T-test in Experience in India and UK\n",
        "india_exp = data.loc[data.Country == 'India'].YearsCodedJob\n",
        "uk_exp = data.loc[data.Country == 'United States'].YearsCodedJob"
      ],
      "metadata": {
        "id": "iB6BgUF7y5tM"
      },
      "execution_count": 21,
      "outputs": []
    },
    {
      "cell_type": "code",
      "source": [
        "t_test(india_exp, uk_exp)"
      ],
      "metadata": {
        "colab": {
          "base_uri": "https://localhost:8080/",
          "height": 302
        },
        "id": "mzCZi3nCzpZ3",
        "outputId": "c1e052ad-aa9e-44d2-8632-307f5fc7eb9a"
      },
      "execution_count": 22,
      "outputs": [
        {
          "output_type": "stream",
          "name": "stdout",
          "text": [
            "5.225676347614714e-58\n",
            "As p_value is 5.225676347614714e-58, so there is difference in characterstics of both groups(reject H0)\n"
          ]
        },
        {
          "output_type": "display_data",
          "data": {
            "image/png": "[encoded data removed]",
            "text/plain": [
              "<Figure size 432x288 with 1 Axes>"
            ]
          },
          "metadata": {
            "needs_background": "light"
          }
        }
      ]
    },
    {
      "cell_type": "markdown",
      "source": [
        "## Chi-Square test (Person)\n",
        "- Detemine whether there is a statistically significant difference between the expected frequencies and observed frequencies.\n",
        "- A t-test tests the null hypothesis about two means whereas chi-square test requires categorical variables, each having any number of levels.\n",
        "- **Null Hypothesis** : There is no relationship between variables.\n"
      ],
      "metadata": {
        "id": "IdmM0p2tzvSC"
      }
    },
    {
      "cell_type": "code",
      "source": [
        "# Cross Tabulation\n",
        "tab = pd.crosstab(index=data.Country,\n",
        "                  columns=data.Remote)\n",
        "tab"
      ],
      "metadata": {
        "colab": {
          "base_uri": "https://localhost:8080/",
          "height": 238
        },
        "id": "OocwGXm--FTR",
        "outputId": "90e3b492-6c9a-4e9d-ceac-cc36ec8df731"
      },
      "execution_count": 24,
      "outputs": [
        {
          "output_type": "execute_result",
          "data": {
            "text/html": [
              "\n",
              "  <div id=\"df-3664e35f-860c-4c8c-ada2-b349a9aa2667\">\n",
              "    <div class=\"colab-df-container\">\n",
              "      <div>\n",
              "<style scoped>\n",
              "    .dataframe tbody tr th:only-of-type {\n",
              "        vertical-align: middle;\n",
              "    }\n",
              "\n",
              "    .dataframe tbody tr th {\n",
              "        vertical-align: top;\n",
              "    }\n",
              "\n",
              "    .dataframe thead th {\n",
              "        text-align: right;\n",
              "    }\n",
              "</style>\n",
              "<table border=\"1\" class=\"dataframe\">\n",
              "  <thead>\n",
              "    <tr style=\"text-align: right;\">\n",
              "      <th>Remote</th>\n",
              "      <th>Not remote</th>\n",
              "      <th>Remote</th>\n",
              "    </tr>\n",
              "    <tr>\n",
              "      <th>Country</th>\n",
              "      <th></th>\n",
              "      <th></th>\n",
              "    </tr>\n",
              "  </thead>\n",
              "  <tbody>\n",
              "    <tr>\n",
              "      <th>Canada</th>\n",
              "      <td>457</td>\n",
              "      <td>28</td>\n",
              "    </tr>\n",
              "    <tr>\n",
              "      <th>Germany</th>\n",
              "      <td>717</td>\n",
              "      <td>40</td>\n",
              "    </tr>\n",
              "    <tr>\n",
              "      <th>India</th>\n",
              "      <td>482</td>\n",
              "      <td>56</td>\n",
              "    </tr>\n",
              "    <tr>\n",
              "      <th>United Kingdom</th>\n",
              "      <td>953</td>\n",
              "      <td>70</td>\n",
              "    </tr>\n",
              "    <tr>\n",
              "      <th>United States</th>\n",
              "      <td>2410</td>\n",
              "      <td>381</td>\n",
              "    </tr>\n",
              "  </tbody>\n",
              "</table>\n",
              "</div>\n",
              "      <button class=\"colab-df-convert\" onclick=\"convertToInteractive('df-3664e35f-860c-4c8c-ada2-b349a9aa2667')\"\n",
              "              title=\"Convert this dataframe to an interactive table.\"\n",
              "              style=\"display:none;\">\n",
              "        \n",
              "  <svg xmlns=\"http://www.w3.org/2000/svg\" height=\"24px\"viewBox=\"0 0 24 24\"\n",
              "       width=\"24px\">\n",
              "    <path d=\"M0 0h24v24H0V0z\" fill=\"none\"/>\n",
              "    <path d=\"M18.56 5.44l.94 2.06.94-2.06 2.06-.94-2.06-.94-.94-2.06-.94 2.06-2.06.94zm-11 1L8.5 8.5l.94-2.06 2.06-.94-2.06-.94L8.5 2.5l-.94 2.06-2.06.94zm10 10l.94 2.06.94-2.06 2.06-.94-2.06-.94-.94-2.06-.94 2.06-2.06.94z\"/><path d=\"M17.41 7.96l-1.37-1.37c-.4-.4-.92-.59-1.43-.59-.52 0-1.04.2-1.43.59L10.3 9.45l-7.72 7.72c-.78.78-.78 2.05 0 2.83L4 21.41c.39.39.9.59 1.41.59.51 0 1.02-.2 1.41-.59l7.78-7.78 2.81-2.81c.8-.78.8-2.07 0-2.86zM5.41 20L4 18.59l7.72-7.72 1.47 1.35L5.41 20z\"/>\n",
              "  </svg>\n",
              "      </button>\n",
              "      \n",
              "  <style>\n",
              "    .colab-df-container {\n",
              "      display:flex;\n",
              "      flex-wrap:wrap;\n",
              "      gap: 12px;\n",
              "    }\n",
              "\n",
              "    .colab-df-convert {\n",
              "      background-color: #E8F0FE;\n",
              "      border: none;\n",
              "      border-radius: 50%;\n",
              "      cursor: pointer;\n",
              "      display: none;\n",
              "      fill: #1967D2;\n",
              "      height: 32px;\n",
              "      padding: 0 0 0 0;\n",
              "      width: 32px;\n",
              "    }\n",
              "\n",
              "    .colab-df-convert:hover {\n",
              "      background-color: #E2EBFA;\n",
              "      box-shadow: 0px 1px 2px rgba(60, 64, 67, 0.3), 0px 1px 3px 1px rgba(60, 64, 67, 0.15);\n",
              "      fill: #174EA6;\n",
              "    }\n",
              "\n",
              "    [theme=dark] .colab-df-convert {\n",
              "      background-color: #3B4455;\n",
              "      fill: #D2E3FC;\n",
              "    }\n",
              "\n",
              "    [theme=dark] .colab-df-convert:hover {\n",
              "      background-color: #434B5C;\n",
              "      box-shadow: 0px 1px 3px 1px rgba(0, 0, 0, 0.15);\n",
              "      filter: drop-shadow(0px 1px 2px rgba(0, 0, 0, 0.3));\n",
              "      fill: #FFFFFF;\n",
              "    }\n",
              "  </style>\n",
              "\n",
              "      <script>\n",
              "        const buttonEl =\n",
              "          document.querySelector('#df-3664e35f-860c-4c8c-ada2-b349a9aa2667 button.colab-df-convert');\n",
              "        buttonEl.style.display =\n",
              "          google.colab.kernel.accessAllowed ? 'block' : 'none';\n",
              "\n",
              "        async function convertToInteractive(key) {\n",
              "          const element = document.querySelector('#df-3664e35f-860c-4c8c-ada2-b349a9aa2667');\n",
              "          const dataTable =\n",
              "            await google.colab.kernel.invokeFunction('convertToInteractive',\n",
              "                                                     [key], {});\n",
              "          if (!dataTable) return;\n",
              "\n",
              "          const docLinkHtml = 'Like what you see? Visit the ' +\n",
              "            '<a target=\"_blank\" href=https://colab.research.google.com/notebooks/data_table.ipynb>data table notebook</a>'\n",
              "            + ' to learn more about interactive tables.';\n",
              "          element.innerHTML = '';\n",
              "          dataTable['output_type'] = 'display_data';\n",
              "          await google.colab.output.renderOutput(dataTable, element);\n",
              "          const docLink = document.createElement('div');\n",
              "          docLink.innerHTML = docLinkHtml;\n",
              "          element.appendChild(docLink);\n",
              "        }\n",
              "      </script>\n",
              "    </div>\n",
              "  </div>\n",
              "  "
            ],
            "text/plain": [
              "Remote          Not remote  Remote\n",
              "Country                           \n",
              "Canada                 457      28\n",
              "Germany                717      40\n",
              "India                  482      56\n",
              "United Kingdom         953      70\n",
              "United States         2410     381"
            ]
          },
          "metadata": {},
          "execution_count": 24
        }
      ]
    },
    {
      "cell_type": "code",
      "source": [
        "chi2, p, dof, exp = st.chi2_contingency(tab)\n",
        "print(p)"
      ],
      "metadata": {
        "colab": {
          "base_uri": "https://localhost:8080/"
        },
        "id": "jmYAYoX7OV9p",
        "outputId": "85901a48-2f1d-4666-dc1b-fe1a7a727ed5"
      },
      "execution_count": 27,
      "outputs": [
        {
          "output_type": "stream",
          "name": "stdout",
          "text": [
            "3.321120877301216e-16\n"
          ]
        }
      ]
    },
    {
      "cell_type": "code",
      "source": [
        "def chi_square_test(index,columns):\n",
        "  \"\"\"\n",
        "  It takes the index and column values and returns the chi-sqaure value, p_value, degress of freedom and expected values.\n",
        "  \"\"\" \n",
        "  tab = pd.crosstab(index=index,\n",
        "                    columns=columns)\n",
        "  chi2, p, dof, exp = st.chi2_contingency(tab)\n",
        "  print(f'The Chi-square value is {chi2}.')\n",
        "  print(f'The p-value is {p}.')\n",
        "  print(f'The degrees of freedom are {dof}.')\n",
        "\n",
        "  # Condition check\n",
        "  if p>0.05:\n",
        "    print(\"There is no relationship (fail to reject H0)\")\n",
        "  else:\n",
        "    print(\"There is strong relationship (reject H0)\")\n",
        "\n",
        "  \n"
      ],
      "metadata": {
        "id": "n3vvzPCQOwX0"
      },
      "execution_count": 28,
      "outputs": []
    },
    {
      "cell_type": "code",
      "source": [
        "# Question : Chi-Square test between company size and hobbies.\n",
        "chi_square_test(index=data.CompanySizeNumber,\n",
        "                columns=data.Hobby)"
      ],
      "metadata": {
        "colab": {
          "base_uri": "https://localhost:8080/"
        },
        "id": "evyTp7CMQ4lQ",
        "outputId": "9f7b99a9-3094-43cf-93ef-66c1f72a7ca5"
      },
      "execution_count": 29,
      "outputs": [
        {
          "output_type": "stream",
          "name": "stdout",
          "text": [
            "The Chi-square value is 15.935902955290901.\n",
            "The p-value is 0.025708455559671047.\n",
            "The degrees of freedom are 7.\n",
            "There is strong relationship (reject H0)\n"
          ]
        }
      ]
    },
    {
      "cell_type": "code",
      "source": [
        ""
      ],
      "metadata": {
        "id": "htXDULbeRXNr"
      },
      "execution_count": null,
      "outputs": []
    }
  ]
}